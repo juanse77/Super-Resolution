{
 "cells": [
  {
   "cell_type": "markdown",
   "metadata": {},
   "source": [
    "# Super-resolución 4x:\n",
    "## 1.- Preprocesado de imágenes:\n",
    "\n",
    "Ejercicio de curso para la asignatura de Computación Inteligente perteneciente al Máster Universitario en Sistemas Inteligentes y Aplicaciones Numéricas para la Ingeniería (MUSIANI) en el curso 2020/21, realizado por Juan Sebastián Ramírez Artiles.\n",
    "\n",
    "En este notebook se preprocesarán las imágennes del dataset [DIV2X](https://data.vision.ee.ethz.ch/cvl/DIV2K/) de acceso libre para que puedan ser usadas por el modelo de super-resolución implementado en el notebook [Super_Resolution_CI_Model.ipynb](Super_Resolution_CI_Model.ipynb).\n"
   ]
  },
  {
   "cell_type": "code",
   "execution_count": 1,
   "metadata": {},
   "outputs": [],
   "source": [
    "import cv2\n",
    "from os import listdir\n",
    "from os.path import isfile, join\n",
    "import numpy as np\n",
    "from pathlib import Path\n",
    "import os"
   ]
  },
  {
   "cell_type": "markdown",
   "metadata": {},
   "source": [
    "Se usarán las imágenes de alta resolución del track1. Son originariamente 800 imágenes que se seleccionaran y dividirán en imágenes para entrenamiento e imágenes para validación."
   ]
  },
  {
   "cell_type": "code",
   "execution_count": 2,
   "metadata": {},
   "outputs": [],
   "source": [
    "small = \"x4\"\n",
    "big = \"x1\"\n",
    "\n",
    "path_small = \"img_\" + small\n",
    "path_big = \"img_\" + big\n",
    "\n",
    "cut_small = \"cut_small\"\n",
    "cut_big = \"cut_big\"\n",
    "\n",
    "not_used_small = \"not_used_\" + small\n",
    "not_used_big = \"not_used_\" + big\n",
    "\n",
    "Path(cut_small).mkdir(parents=True, exist_ok=True)\n",
    "Path(cut_big).mkdir(parents=True, exist_ok=True)\n",
    "\n",
    "Path(not_used_small).mkdir(parents=True, exist_ok=True)\n",
    "Path(not_used_big).mkdir(parents=True, exist_ok=True)"
   ]
  },
  {
   "cell_type": "markdown",
   "metadata": {},
   "source": [
    "Se seleccionarán las imágenes que concuerden con unas dimensiones superiores a 1300 píxeles de alto y 1900 píxeles de ancho."
   ]
  },
  {
   "cell_type": "code",
   "execution_count": 3,
   "metadata": {},
   "outputs": [],
   "source": [
    "def filter_images():\n",
    "    \n",
    "    for f_small in listdir(path_small):\n",
    "        f_big = f_small.replace(small, \"\")\n",
    "\n",
    "        img_small = cv2.imread(join(path_small, f_small))\n",
    "        img_big = cv2.imread(join(path_big, f_big))\n",
    "\n",
    "        if img_big.shape[0] < 1300 or img_big.shape[1] < 1900:\n",
    "            cv2.imwrite(join(not_used_small, f_small), img_small)\n",
    "            cv2.imwrite(join(not_used_big, f_big), img_big)\n",
    "            \n",
    "            os.remove(join(path_small, f_small))\n",
    "            os.remove(join(path_big, f_big))\n"
   ]
  },
  {
   "cell_type": "markdown",
   "metadata": {},
   "source": [
    "Las imágenes con estilo retrato se voltearán para que queden en estilo panorámico."
   ]
  },
  {
   "cell_type": "code",
   "execution_count": 4,
   "metadata": {},
   "outputs": [],
   "source": [
    "def rotate_images():\n",
    "    \n",
    "     for f_small in listdir(path_small):\n",
    "        f_big = f_small.replace(small, \"\")\n",
    "\n",
    "        img_small = cv2.imread(join(path_small, f_small))\n",
    "        img_big = cv2.imread(join(path_big, f_big))\n",
    "\n",
    "        if img_small.shape[0] > img_small.shape[1]:\n",
    "            aux_img_small = cv2.rotate(img_small, cv2.ROTATE_90_CLOCKWISE)\n",
    "            cv2.imwrite(join(not_used_small, f_small), img_small)\n",
    "            cv2.imwrite(join(path_small, f_small), aux_img_small)\n",
    "            \n",
    "            aux_img_big = cv2.rotate(img_big, cv2.ROTATE_90_CLOCKWISE)\n",
    "            cv2.imwrite(join(not_used_big, f_big), img_big)\n",
    "            cv2.imwrite(join(path_big, f_big), aux_img_big)"
   ]
  },
  {
   "cell_type": "markdown",
   "metadata": {},
   "source": [
    "Este método será el que establezca las dimensiones finales que tendrán las imágenes."
   ]
  },
  {
   "cell_type": "code",
   "execution_count": 5,
   "metadata": {},
   "outputs": [],
   "source": [
    "def get_min_rows_cols(path):\n",
    "    \n",
    "    min_rows = np.Inf\n",
    "    min_cols = np.Inf\n",
    "\n",
    "    for f in listdir(path):\n",
    "        img = cv2.imread(join(path, f))\n",
    "\n",
    "        if img.shape[0] < min_rows:\n",
    "             min_rows = img.shape[0]\n",
    "\n",
    "        if img.shape[1] < min_cols:\n",
    "            min_cols = img.shape[1]\n",
    "    \n",
    "    return min_rows, min_cols"
   ]
  },
  {
   "cell_type": "markdown",
   "metadata": {},
   "source": [
    "Este otro método comprobará que las imágenes reducidas y las de alta resolución mantienen su proporción."
   ]
  },
  {
   "cell_type": "code",
   "execution_count": 6,
   "metadata": {},
   "outputs": [],
   "source": [
    "def compare_images():\n",
    "\n",
    "    for f_small in listdir(path_small):\n",
    "        f_big = f_small.replace(small, \"\")\n",
    "\n",
    "        img_small = cv2.imread(join(path_small, f_small))\n",
    "        img_big = cv2.imread(join(path_big, f_big))\n",
    "\n",
    "        if img_small.shape[0] * 4 != img_big.shape[0]:\n",
    "            print(f_small)\n",
    "            return False\n",
    "\n",
    "        if img_small.shape[1] * 4 != img_big.shape[1]:\n",
    "            print(f_small)\n",
    "            return False\n",
    "        \n",
    "    return True"
   ]
  },
  {
   "cell_type": "markdown",
   "metadata": {},
   "source": [
    "En este método es en donde se cortarán finalmente las imágenes."
   ]
  },
  {
   "cell_type": "code",
   "execution_count": 7,
   "metadata": {},
   "outputs": [],
   "source": [
    "def cut_images(min_row_size, min_col_size):\n",
    "    \n",
    "    for f_small in listdir(path_small):\n",
    "        f_big = f_small.replace(small, \"\")\n",
    "\n",
    "        img_small = cv2.imread(join(path_small, f_small))\n",
    "        img_big = cv2.imread(join(path_big, f_big))\n",
    "\n",
    "        center_y = img_small.shape[0] // 2\n",
    "        center_x = img_small.shape[1] // 2\n",
    "\n",
    "        h = min_row_size // 2\n",
    "        w = min_col_size // 2\n",
    "\n",
    "        crop_img_small = img_small[center_y-h:center_y+h, center_x-w:center_x+w]\n",
    "\n",
    "        center_y *= 4\n",
    "        center_x *= 4\n",
    "\n",
    "        h *= 4\n",
    "        w *= 4\n",
    "\n",
    "        crop_img_big = img_big[center_y-h:center_y+h, center_x-w:center_x+w]\n",
    "\n",
    "        cv2.imwrite(join(cut_small, f_small), crop_img_small)\n",
    "        cv2.imwrite(join(cut_big, f_big), crop_img_big)\n"
   ]
  },
  {
   "cell_type": "code",
   "execution_count": 8,
   "metadata": {},
   "outputs": [],
   "source": [
    "if compare_images():\n",
    "    rotate_images()\n",
    "    filter_images()\n",
    "    min_rows, min_cols = get_min_rows_cols(path_small)\n",
    "    cut_images(min_rows, min_cols)"
   ]
  }
 ],
 "metadata": {
  "kernelspec": {
   "display_name": "torch_env",
   "language": "python",
   "name": "torch_env"
  },
  "language_info": {
   "codemirror_mode": {
    "name": "ipython",
    "version": 3
   },
   "file_extension": ".py",
   "mimetype": "text/x-python",
   "name": "python",
   "nbconvert_exporter": "python",
   "pygments_lexer": "ipython3",
   "version": "3.7.9"
  }
 },
 "nbformat": 4,
 "nbformat_minor": 2
}
