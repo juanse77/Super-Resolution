{
 "cells": [
  {
   "cell_type": "code",
   "execution_count": 1,
   "metadata": {},
   "outputs": [],
   "source": [
    "%matplotlib inline\n",
    "%config InlineBackend.figure_format = 'retina'\n",
    "import matplotlib.pyplot as plt\n",
    "import torch\n",
    "from torchvision import datasets, transforms\n",
    "import torchvision.utils as vutils\n",
    "from torch.utils.data import DataLoader, TensorDataset\n",
    "import torch.nn.functional as F\n",
    "import numpy as np\n",
    "import torch.nn as nn\n",
    "import torch.optim as optim"
   ]
  },
  {
   "cell_type": "code",
   "execution_count": 2,
   "metadata": {},
   "outputs": [],
   "source": [
    "workers = 8\n",
    "ngpu = 1\n",
    "beta1 = 0.5\n",
    "lr = 0.0002\n",
    "bs = 60\n",
    "epochs = 60\n",
    "\n",
    "path_train_x = \"images/train/train_x\"\n",
    "path_train_y = \"images/train/train_y\"\n",
    "\n",
    "path_valid_x = \"images/valid/valid_x\"\n",
    "path_valid_y = \"images/valid/valid_y\""
   ]
  },
  {
   "cell_type": "code",
   "execution_count": 3,
   "metadata": {},
   "outputs": [],
   "source": [
    "transform = transforms.Compose([\n",
    "    transforms.ToTensor(),\n",
    "    transforms.Normalize((0.5, 0.5, 0.5), (0.5, 0.5, 0.5))\n",
    "])\n",
    "\n",
    "imgs_train_x = datasets.ImageFolder(path_train_x, transform = transform)\n",
    "imgs_train_y = datasets.ImageFolder(path_train_y, transform = transform)\n",
    "\n",
    "imgs_valid_x = datasets.ImageFolder(path_valid_x, transform = transform)\n",
    "imgs_valid_y = datasets.ImageFolder(path_valid_y, transform = transform)"
   ]
  },
  {
   "cell_type": "code",
   "execution_count": 4,
   "metadata": {},
   "outputs": [
    {
     "name": "stdout",
     "output_type": "stream",
     "text": [
      "611\n",
      "611\n"
     ]
    }
   ],
   "source": [
    "print(len(imgs_train_x))\n",
    "print(len(imgs_train_y))\n",
    "#imgs_train_x.classes\n",
    "#train_ds = TensorDataset(imgs_train_x, imgs_train_y)"
   ]
  },
  {
   "cell_type": "code",
   "execution_count": 5,
   "metadata": {},
   "outputs": [],
   "source": [
    "imgs_train_x_dl = DataLoader(imgs_train_x, batch_size = bs, num_workers = workers)\n",
    "imgs_train_y_dl = DataLoader(imgs_train_y, batch_size = bs, num_workers = workers)\n",
    "\n",
    "imgs_valid_x_dl = DataLoader(imgs_valid_x, batch_size = bs, num_workers = workers)\n",
    "imgs_valid_y_dl = DataLoader(imgs_valid_y, batch_size = bs, num_workers = workers)"
   ]
  },
  {
   "cell_type": "code",
   "execution_count": 6,
   "metadata": {},
   "outputs": [],
   "source": [
    "device = torch.device(\"cuda:0\" if (torch.cuda.is_available() and ngpu > 0) else \"cpu\")"
   ]
  },
  {
   "cell_type": "code",
   "execution_count": 7,
   "metadata": {},
   "outputs": [],
   "source": [
    "class SuperResolution(nn.Module):\n",
    "    def __init__(self):\n",
    "        super().__init__()\n",
    "        \n",
    "        self.conv1 = nn.Conv2d(3, 6, kernel_size = 5, padding = 2)\n",
    "        self.conv2 = nn.Conv2d(6, 12, kernel_size = 5, padding = 2)\n",
    "        self.upsample = nn.PixelShuffle(upscale_factor = 2)\n",
    "\n",
    "    def forward(self, xb):\n",
    "        \n",
    "        xb = torch.tanh(self.conv1(xb))\n",
    "        xb = torch.sigmoid(self.conv2(xb))\n",
    "        \n",
    "        return self.upsample(xb)"
   ]
  },
  {
   "cell_type": "code",
   "execution_count": 8,
   "metadata": {},
   "outputs": [],
   "source": [
    "def preprocess(x, y):\n",
    "    return x.to(device), y.to(device)"
   ]
  },
  {
   "cell_type": "code",
   "execution_count": 9,
   "metadata": {},
   "outputs": [],
   "source": [
    "def get_model():\n",
    "    model = SuperResolution().to(device)\n",
    "    return model, optim.SGD(model.parameters(), lr=0.01, momentum=0.9)\n",
    "\n",
    "loss_func = nn.MSELoss(reduction='mean')"
   ]
  },
  {
   "cell_type": "code",
   "execution_count": 10,
   "metadata": {},
   "outputs": [],
   "source": [
    "class WrappedDataLoader:\n",
    "    def __init__(self, dl_x, dl_y, func):\n",
    "        assert len(dl_x) == len(dl_y)\n",
    "        self.dl_x = dl_x\n",
    "        self.dl_y = dl_y\n",
    "        self.func = func\n",
    "    \n",
    "    def __len__(self):\n",
    "        return len(self.dl_x)\n",
    "\n",
    "    def __iter__(self):\n",
    "        batches_x = iter(self.dl_x)\n",
    "        batches_y = iter(self.dl_y)\n",
    "        \n",
    "        for b_x, _ in batches_x:\n",
    "            b_y, _ = batches_y.next()\n",
    "            yield (self.func(b_x, b_y))\n",
    "        "
   ]
  },
  {
   "cell_type": "code",
   "execution_count": 11,
   "metadata": {},
   "outputs": [],
   "source": [
    "def loss_batch(model, loss_func, xb, yb, opt=None):\n",
    "    loss = loss_func(model(xb), yb)\n",
    "    if opt is not None:\n",
    "        loss.backward()\n",
    "        opt.step()\n",
    "        opt.zero_grad()\n",
    "    \n",
    "    return loss.item(), len(xb)"
   ]
  },
  {
   "cell_type": "code",
   "execution_count": 12,
   "metadata": {},
   "outputs": [],
   "source": [
    "def fit(epochs, model, loss_func, opt, train_dl, valid_dl, val_losses):\n",
    "    for epoch in range(epochs):\n",
    "        model.train()\n",
    "        for xb, yb in train_dl:\n",
    "            loss_batch(model, loss_func, xb, yb, opt)\n",
    "\n",
    "        model.eval()\n",
    "        with torch.no_grad():\n",
    "            losses, nums = zip(\n",
    "                *[loss_batch(model, loss_func, xb, yb) for xb, yb in valid_dl]\n",
    "            )\n",
    "        val_loss = np.sum(np.multiply(losses, nums)) / np.sum(nums)\n",
    "        val_losses.append(val_loss)\n",
    "        \n",
    "        print(epoch, val_loss)"
   ]
  },
  {
   "cell_type": "code",
   "execution_count": 13,
   "metadata": {
    "scrolled": false
   },
   "outputs": [
    {
     "name": "stdout",
     "output_type": "stream",
     "text": [
      "0 0.6629274964332581\n",
      "1 0.5474789381027222\n",
      "2 0.40716699361801145\n",
      "3 0.3523054540157318\n",
      "4 0.3328704297542572\n",
      "5 0.3197775363922119\n",
      "6 0.3070660591125488\n",
      "7 0.29316725730896\n",
      "8 0.27810372710227965\n",
      "9 0.26462632417678833\n",
      "10 0.25599233210086825\n",
      "11 0.24999066889286042\n",
      "12 0.2456602305173874\n",
      "13 0.24261827170848846\n",
      "14 0.24034341275691987\n",
      "15 0.23860947787761688\n",
      "16 0.23723018169403076\n",
      "17 0.2360895872116089\n",
      "18 0.2351166933774948\n",
      "19 0.2342681974172592\n",
      "20 0.23351492881774902\n",
      "21 0.23283641040325165\n",
      "22 0.23221856355667114\n",
      "23 0.23165178298950195\n",
      "24 0.23112936913967133\n",
      "25 0.23064655661582947\n",
      "26 0.23019976317882537\n",
      "27 0.22978635132312775\n",
      "28 0.22940407693386078\n",
      "29 0.22905104160308837\n",
      "30 0.2287253648042679\n",
      "31 0.2284253269433975\n",
      "32 0.22814912497997283\n",
      "33 0.22789498269557953\n",
      "34 0.2276611477136612\n",
      "35 0.22744590938091278\n",
      "36 0.22724757790565492\n",
      "37 0.22706455290317534\n",
      "38 0.22689538300037385\n",
      "39 0.22673868834972383\n",
      "40 0.2265932083129883\n",
      "41 0.22645775079727173\n",
      "42 0.22633136510849\n",
      "43 0.22621306777000427\n",
      "44 0.22610204815864562\n",
      "45 0.22599761188030243\n",
      "46 0.22589904069900513\n",
      "47 0.22580582201480864\n",
      "48 0.2257173925638199\n",
      "49 0.22563330531120301\n",
      "50 0.2255531668663025\n",
      "51 0.22547658979892732\n",
      "52 0.22540329098701478\n",
      "53 0.2253329336643219\n",
      "54 0.22526529133319856\n",
      "55 0.2252001106739044\n",
      "56 0.22513718008995057\n",
      "57 0.22507630586624144\n",
      "58 0.22501734793186187\n",
      "59 0.2249600648880005\n"
     ]
    }
   ],
   "source": [
    "train_dl = WrappedDataLoader(imgs_train_x_dl, imgs_train_y_dl, preprocess)\n",
    "valid_dl = WrappedDataLoader(imgs_valid_x_dl, imgs_valid_y_dl, preprocess)\n",
    "\n",
    "val_losses = []\n",
    "\n",
    "model, opt = get_model()\n",
    "fit(epochs, model, loss_func, opt, train_dl, valid_dl, val_losses)"
   ]
  },
  {
   "cell_type": "code",
   "execution_count": 14,
   "metadata": {},
   "outputs": [
    {
     "data": {
      "image/png": "[encoded data removed]",
      "text/plain": [
       "<Figure size 432x288 with 1 Axes>"
      ]
     },
     "metadata": {
      "image/png": {
       "height": 250,
       "width": 373
      },
      "needs_background": "light"
     },
     "output_type": "display_data"
    }
   ],
   "source": [
    "plt.plot(val_losses)\n",
    "plt.show()"
   ]
  },
  {
   "cell_type": "code",
   "execution_count": 15,
   "metadata": {},
   "outputs": [
    {
     "name": "stderr",
     "output_type": "stream",
     "text": [
      "C:\\Anaconda3\\.conda\\envs'\\torch_env\\lib\\site-packages\\torch\\serialization.py:256: UserWarning: Couldn't retrieve source code for container of type SuperResolution. It won't be checked for correctness upon loading.\n",
      "  \"type \" + obj.__name__ + \". It won't be checked \"\n"
     ]
    }
   ],
   "source": [
    "torch.save(model, \"SR_model_2.2.ml\")"
   ]
  },
  {
   "cell_type": "code",
   "execution_count": null,
   "metadata": {},
   "outputs": [
    {
     "data": {
      "application/javascript": [
       "Jupyter.notebook.session.delete();\n"
      ],
      "text/plain": [
       "<IPython.core.display.Javascript object>"
      ]
     },
     "metadata": {},
     "output_type": "display_data"
    }
   ],
   "source": [
    "%%javascript\n",
    "Jupyter.notebook.session.delete();"
   ]
  },
  {
   "cell_type": "code",
   "execution_count": null,
   "metadata": {},
   "outputs": [],
   "source": []
  }
 ],
 "metadata": {
  "kernelspec": {
   "display_name": "torch_env",
   "language": "python",
   "name": "torch_env"
  },
  "language_info": {
   "codemirror_mode": {
    "name": "ipython",
    "version": 3
   },
   "file_extension": ".py",
   "mimetype": "text/x-python",
   "name": "python",
   "nbconvert_exporter": "python",
   "pygments_lexer": "ipython3",
   "version": "3.7.9"
  }
 },
 "nbformat": 4,
 "nbformat_minor": 2
}
