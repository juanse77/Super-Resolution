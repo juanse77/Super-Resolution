{
 "cells": [
  {
   "cell_type": "markdown",
   "metadata": {},
   "source": [
    "# Super-resolución 4x:\n",
    "## 2.- Modelado y Entranamiento:\n",
    "\n",
    "Ejercicio de curso para la asignatura de Computación Inteligente perteneciente al Máster Universitario en Sistemas Inteligentes y Aplicaciones Numéricas para la Ingeniería (MUSIANI) en el curso 2020/21, realizado por Juan Sebastián Ramírez Artiles.\n",
    "\n",
    "El ejercicio consiste en implementar el método de superresolución en imágenes descrito en el paper *Real-Time Single Image and Video Super-Resolution Using an Efficient Sub-Pixel Convolutional Neural Network*. Concretamente, en este notebook se ha implementado un escalado de cuatro aumententos. El dataset usado fue el [DIV2X](https://data.vision.ee.ethz.ch/cvl/DIV2K/) de libre descarga. Las imgágenes usadas son las del track1 con un tamaño para las imágenes de alta resolución recortadas a 2040x1304.\n"
   ]
  },
  {
   "cell_type": "code",
   "execution_count": 1,
   "metadata": {},
   "outputs": [],
   "source": [
    "%matplotlib inline\n",
    "%config InlineBackend.figure_format = 'retina'\n",
    "import matplotlib.pyplot as plt\n",
    "import torch\n",
    "from torchvision import datasets, transforms\n",
    "import torchvision.utils as vutils\n",
    "from torch.utils.data import DataLoader, TensorDataset\n",
    "import torch.nn.functional as F\n",
    "import numpy as np\n",
    "import torch.nn as nn\n",
    "import torch.optim as optim"
   ]
  },
  {
   "cell_type": "markdown",
   "metadata": {},
   "source": [
    "Las imágenes se cargan de cuatro directorios, cada directorio debe contener un subdirectorio de etiqueta donde se situarán las imágenes, en este caso sólo habrá un subdirectorio, por lo tanto una etiqueta cada uno. Las etiquetas de los dataset se ignorarán ya que no se van a usar. Las imágenes reales se situan en train_y_hr y valid_y_hr y tienen un tamaño de 2040x1304. Las imágenes reducidas tienen un tamaño cuatro veces menor. Para el acondicionamiento de las imágenes se usó el notebook [Super_Resolution_CI_Preprocessed](Super_Resolution_CI_Preprocessed.ipynb).\n",
    "\n",
    "El programa se ejecutó en una máquina con un procesador Intel Core i7-7700HQ a 2.80GHz con una tarjeta de vídeo NVIDIA GeForce GTX 1050 de 4GB de memoria dedicada y con 32 GB de memoria RAM.\n",
    "\n",
    "![](Super_Resolution_CI_3.1.JPG)"
   ]
  },
  {
   "cell_type": "code",
   "execution_count": 2,
   "metadata": {},
   "outputs": [],
   "source": [
    "workers = 8\n",
    "ngpu = 1\n",
    "beta1 = 0.5\n",
    "lr = 0.2\n",
    "bs = 16\n",
    "epochs = 20\n",
    "\n",
    "path_train_x = \"images/train/train_x\"\n",
    "path_train_y = \"images/train/train_y_hr\"\n",
    "\n",
    "path_valid_x = \"images/valid/valid_x\"\n",
    "path_valid_y = \"images/valid/valid_y_hr\""
   ]
  },
  {
   "cell_type": "code",
   "execution_count": 3,
   "metadata": {},
   "outputs": [],
   "source": [
    "transform = transforms.Compose([\n",
    "    transforms.ToTensor(),\n",
    "    transforms.Normalize((0.5, 0.5, 0.5), (0.5, 0.5, 0.5))\n",
    "])\n",
    "\n",
    "imgs_train_x = datasets.ImageFolder(path_train_x, transform = transform)\n",
    "imgs_train_y = datasets.ImageFolder(path_train_y, transform = transform)\n",
    "\n",
    "imgs_valid_x = datasets.ImageFolder(path_valid_x, transform = transform)\n",
    "imgs_valid_y = datasets.ImageFolder(path_valid_y, transform = transform)"
   ]
  },
  {
   "cell_type": "markdown",
   "metadata": {},
   "source": [
    "El dataset se dividió en 611 imágenes para entrenamiento y 75 imágenes para validación."
   ]
  },
  {
   "cell_type": "code",
   "execution_count": 4,
   "metadata": {},
   "outputs": [
    {
     "name": "stdout",
     "output_type": "stream",
     "text": [
      "611\n",
      "611\n"
     ]
    }
   ],
   "source": [
    "print(len(imgs_train_x))\n",
    "print(len(imgs_train_y))\n",
    "#imgs_train_x.classes\n",
    "#train_ds = TensorDataset(imgs_train_x, imgs_train_y)"
   ]
  },
  {
   "cell_type": "code",
   "execution_count": 5,
   "metadata": {},
   "outputs": [],
   "source": [
    "imgs_train_x_dl = DataLoader(imgs_train_x, batch_size = bs, num_workers = workers)\n",
    "imgs_train_y_dl = DataLoader(imgs_train_y, batch_size = bs, num_workers = workers)\n",
    "\n",
    "imgs_valid_x_dl = DataLoader(imgs_valid_x, batch_size = bs, num_workers = workers)\n",
    "imgs_valid_y_dl = DataLoader(imgs_valid_y, batch_size = bs, num_workers = workers)"
   ]
  },
  {
   "cell_type": "code",
   "execution_count": 6,
   "metadata": {},
   "outputs": [],
   "source": [
    "device = torch.device(\"cuda:0\" if (torch.cuda.is_available() and ngpu > 0) else \"cpu\")"
   ]
  },
  {
   "cell_type": "markdown",
   "metadata": {},
   "source": [
    "El modelo hace uso de la capa PixelShuffle que se encarga de realizar el escalado a nivel subpíxel tomando como entrada un tensor de tamaño [$Batch, Channels*R^2, H, W$] y reordenándolo como [$Batch, Channels, H*R, W*R$]\n",
    "\n",
    "Se probaron una variedad de modelos diferentes. Se usaron kernels de 3x3, de 5x5 y de 7x7, siendo estos últimos los que mejor resultados dieron. También se probaron diferentes configuraciones de red, añadiendo capas convolutivas y modificando las funciones de activación. Esta configuración resultó la más adecuada.\n",
    "\n",
    "En el proceso de entrenamiento se usaron gran variedad de combinaciones de tamaños de batches y de cantidad de épocas. Se empezó con tamaños de batch de 8 y se fue subiendo hasta 16, más de esta cantidad desborda la memoras de la GPU. En cuanto al número de épocas, se empezó con 20 iteraciones y se fue subiendo hasta la cantidad de 80. No obstante, al variar el learning rate se aceleró la convergencia, con lo que volví a la veinte iteraciones."
   ]
  },
  {
   "cell_type": "code",
   "execution_count": 7,
   "metadata": {},
   "outputs": [],
   "source": [
    "class SuperResolution(nn.Module):\n",
    "    def __init__(self):\n",
    "        super().__init__()\n",
    "        \n",
    "        self.conv = nn.Conv2d(3, 12, kernel_size = 7, padding = 3)\n",
    "        self.upsample = nn.PixelShuffle(upscale_factor = 2)\n",
    "\n",
    "    def forward(self, xb):\n",
    "        \n",
    "        xb = torch.tanh(self.conv(xb))\n",
    "        xb = self.upsample(xb)\n",
    "        xb = torch.sigmoid(self.conv(xb))\n",
    "        \n",
    "        return self.upsample(xb)"
   ]
  },
  {
   "cell_type": "code",
   "execution_count": 8,
   "metadata": {},
   "outputs": [],
   "source": [
    "def preprocess(x, y):\n",
    "    return x.to(device), y.to(device)"
   ]
  },
  {
   "cell_type": "code",
   "execution_count": 9,
   "metadata": {},
   "outputs": [],
   "source": [
    "def get_model():\n",
    "    model = SuperResolution().to(device)\n",
    "    return model, optim.SGD(model.parameters(), lr=lr, momentum=0.9)\n",
    "\n",
    "loss_func = nn.MSELoss(reduction='mean')"
   ]
  },
  {
   "cell_type": "code",
   "execution_count": 10,
   "metadata": {},
   "outputs": [],
   "source": [
    "class WrappedDataLoader:\n",
    "    def __init__(self, dl_x, dl_y, func):\n",
    "        assert len(dl_x) == len(dl_y)\n",
    "        self.dl_x = dl_x\n",
    "        self.dl_y = dl_y\n",
    "        self.func = func\n",
    "    \n",
    "    def __len__(self):\n",
    "        return len(self.dl_x)\n",
    "\n",
    "    def __iter__(self):\n",
    "        batches_x = iter(self.dl_x)\n",
    "        batches_y = iter(self.dl_y)\n",
    "        \n",
    "        for b_x, _ in batches_x:\n",
    "            b_y, _ = batches_y.next()\n",
    "            yield (self.func(b_x, b_y))\n",
    "        "
   ]
  },
  {
   "cell_type": "code",
   "execution_count": 11,
   "metadata": {},
   "outputs": [],
   "source": [
    "def loss_batch(model, loss_func, xb, yb, opt=None):\n",
    "    loss = loss_func(model(xb), yb)\n",
    "    if opt is not None:\n",
    "        loss.backward()\n",
    "        opt.step()\n",
    "        opt.zero_grad()\n",
    "    \n",
    "    return loss.item(), len(xb)"
   ]
  },
  {
   "cell_type": "code",
   "execution_count": 12,
   "metadata": {},
   "outputs": [],
   "source": [
    "def fit(epochs, model, loss_func, opt, train_dl, valid_dl, val_losses):\n",
    "    for epoch in range(epochs):\n",
    "        model.train()\n",
    "        for xb, yb in train_dl:\n",
    "            loss_batch(model, loss_func, xb, yb, opt)\n",
    "\n",
    "        model.eval()\n",
    "        with torch.no_grad():\n",
    "            losses, nums = zip(\n",
    "                *[loss_batch(model, loss_func, xb, yb) for xb, yb in valid_dl]\n",
    "            )\n",
    "        val_loss = np.sum(np.multiply(losses, nums)) / np.sum(nums)\n",
    "        val_losses.append(val_loss)\n",
    "        \n",
    "        print(epoch, val_loss)"
   ]
  },
  {
   "cell_type": "code",
   "execution_count": 13,
   "metadata": {
    "scrolled": false
   },
   "outputs": [
    {
     "name": "stdout",
     "output_type": "stream",
     "text": [
      "0 0.28736064354578655\n",
      "1 0.2473911871512731\n",
      "2 0.2408711491028468\n",
      "3 0.2380747373898824\n",
      "4 0.23652935087680815\n",
      "5 0.23554478367169698\n",
      "6 0.23478499591350555\n",
      "7 0.23418607393900553\n",
      "8 0.2337447412808736\n",
      "9 0.23341579814751942\n",
      "10 0.23313918908437092\n",
      "11 0.23288639684518178\n",
      "12 0.23265165348847708\n",
      "13 0.23243224104245505\n",
      "14 0.2322255758444468\n",
      "15 0.23202941715717315\n",
      "16 0.23184201101462046\n",
      "17 0.23166203280289968\n",
      "18 0.2314884678522746\n",
      "19 0.231320605079333\n"
     ]
    }
   ],
   "source": [
    "train_dl = WrappedDataLoader(imgs_train_x_dl, imgs_train_y_dl, preprocess)\n",
    "valid_dl = WrappedDataLoader(imgs_valid_x_dl, imgs_valid_y_dl, preprocess)\n",
    "\n",
    "val_losses = []\n",
    "\n",
    "model, opt = get_model()\n",
    "fit(epochs, model, loss_func, opt, train_dl, valid_dl, val_losses)"
   ]
  },
  {
   "cell_type": "markdown",
   "metadata": {},
   "source": [
    "Se puede observar en el gráfico que la red aprende bien."
   ]
  },
  {
   "cell_type": "code",
   "execution_count": 14,
   "metadata": {},
   "outputs": [
    {
     "data": {
      "image/png": "[encoded data removed]",
      "text/plain": [
       "<Figure size 432x288 with 1 Axes>"
      ]
     },
     "metadata": {
      "image/png": {
       "height": 251,
       "width": 378
      },
      "needs_background": "light"
     },
     "output_type": "display_data"
    }
   ],
   "source": [
    "plt.plot(val_losses)\n",
    "plt.show()"
   ]
  },
  {
   "cell_type": "markdown",
   "metadata": {},
   "source": [
    "Para finalizar, salvo el modelo para poder usarlo en el notebook [SR_restore_model.ipynb](SR_restore_model.ipynb) que se encargará de escalar las 75 imágenes de validación."
   ]
  },
  {
   "cell_type": "code",
   "execution_count": 15,
   "metadata": {},
   "outputs": [],
   "source": [
    "torch.save(model, \"SR_model_3.3.ml\")"
   ]
  },
  {
   "cell_type": "code",
   "execution_count": null,
   "metadata": {},
   "outputs": [
    {
     "data": {
      "application/javascript": [
       "Jupyter.notebook.session.delete();\n"
      ],
      "text/plain": [
       "<IPython.core.display.Javascript object>"
      ]
     },
     "metadata": {},
     "output_type": "display_data"
    }
   ],
   "source": [
    "%%javascript\n",
    "Jupyter.notebook.session.delete();"
   ]
  },
  {
   "cell_type": "code",
   "execution_count": null,
   "metadata": {},
   "outputs": [],
   "source": []
  }
 ],
 "metadata": {
  "kernelspec": {
   "display_name": "torch_env",
   "language": "python",
   "name": "torch_env"
  },
  "language_info": {
   "codemirror_mode": {
    "name": "ipython",
    "version": 3
   },
   "file_extension": ".py",
   "mimetype": "text/x-python",
   "name": "python",
   "nbconvert_exporter": "python",
   "pygments_lexer": "ipython3",
   "version": "3.7.9"
  }
 },
 "nbformat": 4,
 "nbformat_minor": 2
}
