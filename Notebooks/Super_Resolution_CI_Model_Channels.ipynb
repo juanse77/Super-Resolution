{
 "cells": [
  {
   "cell_type": "code",
   "execution_count": 1,
   "metadata": {},
   "outputs": [],
   "source": [
    "%matplotlib inline\n",
    "%config InlineBackend.figure_format = 'retina'\n",
    "import matplotlib.pyplot as plt\n",
    "import torch\n",
    "from torchvision import datasets, transforms\n",
    "import torchvision.utils as vutils\n",
    "from torch.utils.data import DataLoader, TensorDataset\n",
    "import torch.nn.functional as F\n",
    "import numpy as np\n",
    "import torch.nn as nn\n",
    "import torch.optim as optim"
   ]
  },
  {
   "cell_type": "code",
   "execution_count": 2,
   "metadata": {},
   "outputs": [],
   "source": [
    "workers = 4\n",
    "ngpu = 1\n",
    "beta1 = 0.5\n",
    "lr = 0.0002\n",
    "bs = 8\n",
    "epochs = 20\n",
    "\n",
    "path_train_x = \"images/train/train_x\"\n",
    "path_train_y = \"images/train/train_y\"\n",
    "\n",
    "path_valid_x = \"images/valid/valid_x\"\n",
    "path_valid_y = \"images/valid/valid_y\""
   ]
  },
  {
   "cell_type": "code",
   "execution_count": 3,
   "metadata": {},
   "outputs": [],
   "source": [
    "transform = transforms.Compose([\n",
    "    transforms.ToTensor(),\n",
    "    transforms.Normalize((0.5, 0.5, 0.5), (0.5, 0.5, 0.5))\n",
    "])\n",
    "\n",
    "imgs_train_x = datasets.ImageFolder(path_train_x, transform = transform)\n",
    "imgs_train_y = datasets.ImageFolder(path_train_y, transform = transform)\n",
    "\n",
    "imgs_valid_x = datasets.ImageFolder(path_valid_x, transform = transform)\n",
    "imgs_valid_y = datasets.ImageFolder(path_valid_y, transform = transform)"
   ]
  },
  {
   "cell_type": "code",
   "execution_count": 4,
   "metadata": {},
   "outputs": [
    {
     "name": "stdout",
     "output_type": "stream",
     "text": [
      "611\n",
      "611\n"
     ]
    }
   ],
   "source": [
    "print(len(imgs_train_x))\n",
    "print(len(imgs_train_y))\n",
    "#imgs_train_x.classes\n",
    "#train_ds = TensorDataset(imgs_train_x, imgs_train_y)"
   ]
  },
  {
   "cell_type": "code",
   "execution_count": 5,
   "metadata": {},
   "outputs": [],
   "source": [
    "imgs_train_x_dl = DataLoader(imgs_train_x, batch_size = bs, num_workers = workers)\n",
    "imgs_train_y_dl = DataLoader(imgs_train_y, batch_size = bs, num_workers = workers)\n",
    "\n",
    "imgs_valid_x_dl = DataLoader(imgs_valid_x, batch_size = bs, num_workers = workers)\n",
    "imgs_valid_y_dl = DataLoader(imgs_valid_y, batch_size = bs, num_workers = workers)"
   ]
  },
  {
   "cell_type": "code",
   "execution_count": 6,
   "metadata": {},
   "outputs": [],
   "source": [
    "device = torch.device(\"cuda:0\" if (torch.cuda.is_available() and ngpu > 0) else \"cpu\")"
   ]
  },
  {
   "cell_type": "code",
   "execution_count": 7,
   "metadata": {},
   "outputs": [],
   "source": [
    "class SuperResolution(nn.Module):\n",
    "    def __init__(self):\n",
    "        super().__init__()\n",
    "        \n",
    "        self.conv1 = nn.Conv2d(1, 6, kernel_size = 3, padding = 1)\n",
    "        self.conv2 = nn.Conv2d(6, 12, kernel_size = 3, padding = 1)\n",
    "        self.conv3 = nn.Conv2d(12, 4, kernel_size = 3, padding = 1)\n",
    "\n",
    "        self.upsample = nn.PixelShuffle(upscale_factor = 2)\n",
    "\n",
    "    def forward(self, xb):\n",
    "        \n",
    "        xb = torch.tanh(self.conv1(xb))\n",
    "        xb = torch.tanh(self.conv2(xb))\n",
    "        xb = torch.sigmoid(self.conv3(xb))       \n",
    "\n",
    "        return self.upsample(xb)"
   ]
  },
  {
   "cell_type": "code",
   "execution_count": 8,
   "metadata": {},
   "outputs": [],
   "source": [
    "def preprocess(x, y):\n",
    "    return x.to(device), y.to(device)"
   ]
  },
  {
   "cell_type": "code",
   "execution_count": 9,
   "metadata": {},
   "outputs": [],
   "source": [
    "def get_model():\n",
    "    model_1 = SuperResolution().to(device)\n",
    "    model_2 = SuperResolution().to(device)\n",
    "    model_3 = SuperResolution().to(device)\n",
    "    \n",
    "    return model_1, model_2, model_3, optim.SGD(model_1.parameters(), lr=0.01, momentum=0.9), optim.SGD(model_2.parameters(), lr=0.01, momentum=0.9), optim.SGD(model_3.parameters(), lr=0.01, momentum=0.9)\n",
    "\n",
    "loss_func = nn.MSELoss(reduction='mean')"
   ]
  },
  {
   "cell_type": "code",
   "execution_count": 10,
   "metadata": {},
   "outputs": [],
   "source": [
    "class WrappedDataLoader:\n",
    "    def __init__(self, dl_x, dl_y, func, i):\n",
    "        assert len(dl_x) == len(dl_y)\n",
    "        self.dl_x = dl_x\n",
    "        self.dl_y = dl_y\n",
    "        self.func = func\n",
    "        self.channel = i\n",
    "    \n",
    "    def __len__(self):\n",
    "        return len(self.dl_x)\n",
    "\n",
    "    def __iter__(self):\n",
    "        batches_x = iter(self.dl_x)\n",
    "        batches_y = iter(self.dl_y)\n",
    "        \n",
    "        for b_x, _ in batches_x:\n",
    "            b_y, _ = batches_y.next()\n",
    "            yield (self.func(b_x[:,self.channel].unsqueeze(1), b_y[:,self.channel].unsqueeze(1)))\n",
    "        "
   ]
  },
  {
   "cell_type": "code",
   "execution_count": 11,
   "metadata": {},
   "outputs": [],
   "source": [
    "def loss_batch(model, loss_func, xb, yb, opt=None):\n",
    "    loss = loss_func(model(xb), yb)\n",
    "    if opt is not None:\n",
    "        loss.backward()\n",
    "        opt.step()\n",
    "        opt.zero_grad()\n",
    "    \n",
    "    return loss.item(), len(xb)"
   ]
  },
  {
   "cell_type": "code",
   "execution_count": 12,
   "metadata": {},
   "outputs": [],
   "source": [
    "def fit(epochs, model, loss_func, opt, train_dl, valid_dl, val_losses):\n",
    "    for epoch in range(epochs):\n",
    "        model.train()\n",
    "        for xb, yb in train_dl:\n",
    "            loss_batch(model, loss_func, xb, yb, opt)\n",
    "\n",
    "        model.eval()\n",
    "        with torch.no_grad():\n",
    "            losses, nums = zip(\n",
    "                *[loss_batch(model, loss_func, xb, yb) for xb, yb in valid_dl]\n",
    "            )\n",
    "        val_loss = np.sum(np.multiply(losses, nums)) / np.sum(nums)\n",
    "        val_losses.append(val_loss)\n",
    "        \n",
    "        print(epoch, val_loss)"
   ]
  },
  {
   "cell_type": "code",
   "execution_count": 13,
   "metadata": {
    "scrolled": true
   },
   "outputs": [
    {
     "name": "stdout",
     "output_type": "stream",
     "text": [
      "0 0.2155293639500936\n",
      "1 0.21399840772151946\n",
      "2 0.21315846006075542\n",
      "3 0.21245895346005758\n",
      "4 0.21185475707054138\n",
      "5 0.2113214800755183\n",
      "6 0.21084113617738087\n",
      "7 0.21040090084075927\n",
      "8 0.2099921751022339\n",
      "9 0.2096094963947932\n",
      "10 0.2092496959368388\n",
      "11 0.2089110710223516\n",
      "12 0.20859274645646414\n",
      "13 0.20829417208830517\n",
      "14 0.20801466822624207\n",
      "15 0.20775332709153493\n",
      "16 0.20750895102818806\n",
      "17 0.20728012839953106\n",
      "18 0.2070654074350993\n",
      "19 0.2068633496761322\n",
      "0 0.20303739507993063\n",
      "1 0.20130816578865052\n",
      "2 0.2003679879506429\n",
      "3 0.1995882205168406\n",
      "4 0.19890540957450867\n",
      "5 0.19829618175824484\n",
      "6 0.19774654269218445\n",
      "7 0.19724830150604247\n",
      "8 0.1967971960703532\n",
      "9 0.1963907837867737\n",
      "10 0.19602679173151652\n",
      "11 0.19570223848025003\n",
      "12 0.19541319052378336\n",
      "13 0.19515515764554342\n",
      "14 0.19492350061734517\n",
      "15 0.19471380909283956\n",
      "16 0.194522176583608\n",
      "17 0.19434529344240825\n",
      "18 0.19418043653170267\n",
      "19 0.19402544617652892\n",
      "0 0.25486315886179606\n",
      "1 0.2538075983524323\n",
      "2 0.25306976795196534\n",
      "3 0.25242235223452253\n",
      "4 0.2518487628300985\n",
      "5 0.25134271144866943\n",
      "6 0.25089726169904075\n",
      "7 0.2505051044623057\n",
      "8 0.2501592548688253\n",
      "9 0.24985325892766316\n",
      "10 0.24958120624224345\n",
      "11 0.24933770259221394\n",
      "12 0.2491179839769999\n",
      "13 0.24891786654790243\n",
      "14 0.24873382250467937\n",
      "15 0.24856293121973674\n",
      "16 0.24840282678604125\n",
      "17 0.2482516364256541\n",
      "18 0.24810792009035745\n",
      "19 0.2479705838362376\n"
     ]
    }
   ],
   "source": [
    "train_dl_1 = WrappedDataLoader(imgs_train_x_dl, imgs_train_y_dl, preprocess, 0)\n",
    "valid_dl_1 = WrappedDataLoader(imgs_valid_x_dl, imgs_valid_y_dl, preprocess, 0)\n",
    "\n",
    "train_dl_2 = WrappedDataLoader(imgs_train_x_dl, imgs_train_y_dl, preprocess, 1)\n",
    "valid_dl_2 = WrappedDataLoader(imgs_valid_x_dl, imgs_valid_y_dl, preprocess, 1)\n",
    "\n",
    "train_dl_3 = WrappedDataLoader(imgs_train_x_dl, imgs_train_y_dl, preprocess, 2)\n",
    "valid_dl_3 = WrappedDataLoader(imgs_valid_x_dl, imgs_valid_y_dl, preprocess, 2)\n",
    "\n",
    "val_losses_1 = []\n",
    "val_losses_2 = []\n",
    "val_losses_3 = []\n",
    "\n",
    "model_1, model_2, model_3, opt_1, opt_2, opt_3 = get_model()\n",
    "fit(epochs, model_1, loss_func, opt_1, train_dl_1, valid_dl_1, val_losses_1)\n",
    "fit(epochs, model_2, loss_func, opt_2, train_dl_2, valid_dl_2, val_losses_2)\n",
    "fit(epochs, model_3, loss_func, opt_3, train_dl_3, valid_dl_3, val_losses_3)"
   ]
  },
  {
   "cell_type": "code",
   "execution_count": 14,
   "metadata": {},
   "outputs": [
    {
     "data": {
      "image/png": "[encoded data removed]",
      "text/plain": [
       "<Figure size 432x288 with 1 Axes>"
      ]
     },
     "metadata": {
      "image/png": {
       "height": 250,
       "width": 380
      },
      "needs_background": "light"
     },
     "output_type": "display_data"
    }
   ],
   "source": [
    "plt.plot(val_losses_1, color = \"red\")\n",
    "plt.plot(val_losses_2, color = \"green\")\n",
    "plt.plot(val_losses_3, color = \"blue\")\n",
    "plt.show()"
   ]
  },
  {
   "cell_type": "code",
   "execution_count": 15,
   "metadata": {},
   "outputs": [
    {
     "name": "stderr",
     "output_type": "stream",
     "text": [
      "C:\\Anaconda3\\.conda\\envs'\\torch_env\\lib\\site-packages\\torch\\serialization.py:256: UserWarning: Couldn't retrieve source code for container of type SuperResolution. It won't be checked for correctness upon loading.\n",
      "  \"type \" + obj.__name__ + \". It won't be checked \"\n"
     ]
    }
   ],
   "source": [
    "torch.save(model_1, \"SR_model_1_1.0.ml\")\n",
    "torch.save(model_2, \"SR_model_2_1.0.ml\")\n",
    "torch.save(model_3, \"SR_model_3_1.0.ml\")"
   ]
  },
  {
   "cell_type": "code",
   "execution_count": null,
   "metadata": {},
   "outputs": [
    {
     "data": {
      "application/javascript": [
       "Jupyter.notebook.session.delete();\n"
      ],
      "text/plain": [
       "<IPython.core.display.Javascript object>"
      ]
     },
     "metadata": {},
     "output_type": "display_data"
    }
   ],
   "source": [
    "%%javascript\n",
    "Jupyter.notebook.session.delete();"
   ]
  },
  {
   "cell_type": "code",
   "execution_count": null,
   "metadata": {},
   "outputs": [],
   "source": []
  }
 ],
 "metadata": {
  "kernelspec": {
   "display_name": "torch_env",
   "language": "python",
   "name": "torch_env"
  },
  "language_info": {
   "codemirror_mode": {
    "name": "ipython",
    "version": 3
   },
   "file_extension": ".py",
   "mimetype": "text/x-python",
   "name": "python",
   "nbconvert_exporter": "python",
   "pygments_lexer": "ipython3",
   "version": "3.7.9"
  }
 },
 "nbformat": 4,
 "nbformat_minor": 2
}
