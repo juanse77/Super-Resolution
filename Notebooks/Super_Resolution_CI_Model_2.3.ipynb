{
 "cells": [
  {
   "cell_type": "code",
   "execution_count": 1,
   "metadata": {},
   "outputs": [],
   "source": [
    "%matplotlib inline\n",
    "%config InlineBackend.figure_format = 'retina'\n",
    "import matplotlib.pyplot as plt\n",
    "import torch\n",
    "from torchvision import datasets, transforms\n",
    "import torchvision.utils as vutils\n",
    "from torch.utils.data import DataLoader, TensorDataset\n",
    "import torch.nn.functional as F\n",
    "import numpy as np\n",
    "import torch.nn as nn\n",
    "import torch.optim as optim"
   ]
  },
  {
   "cell_type": "code",
   "execution_count": 2,
   "metadata": {},
   "outputs": [],
   "source": [
    "workers = 8\n",
    "ngpu = 1\n",
    "beta1 = 0.5\n",
    "lr = 0.0002\n",
    "bs = 60\n",
    "epochs = 60\n",
    "\n",
    "path_train_x = \"images/train/train_x\"\n",
    "path_train_y = \"images/train/train_y\"\n",
    "\n",
    "path_valid_x = \"images/valid/valid_x\"\n",
    "path_valid_y = \"images/valid/valid_y\""
   ]
  },
  {
   "cell_type": "code",
   "execution_count": 3,
   "metadata": {},
   "outputs": [],
   "source": [
    "transform = transforms.Compose([\n",
    "    transforms.ToTensor(),\n",
    "    transforms.Normalize((0.5, 0.5, 0.5), (0.5, 0.5, 0.5))\n",
    "])\n",
    "\n",
    "imgs_train_x = datasets.ImageFolder(path_train_x, transform = transform)\n",
    "imgs_train_y = datasets.ImageFolder(path_train_y, transform = transform)\n",
    "\n",
    "imgs_valid_x = datasets.ImageFolder(path_valid_x, transform = transform)\n",
    "imgs_valid_y = datasets.ImageFolder(path_valid_y, transform = transform)"
   ]
  },
  {
   "cell_type": "code",
   "execution_count": 4,
   "metadata": {},
   "outputs": [
    {
     "name": "stdout",
     "output_type": "stream",
     "text": [
      "611\n",
      "611\n"
     ]
    }
   ],
   "source": [
    "print(len(imgs_train_x))\n",
    "print(len(imgs_train_y))\n",
    "#imgs_train_x.classes\n",
    "#train_ds = TensorDataset(imgs_train_x, imgs_train_y)"
   ]
  },
  {
   "cell_type": "code",
   "execution_count": 5,
   "metadata": {},
   "outputs": [],
   "source": [
    "imgs_train_x_dl = DataLoader(imgs_train_x, batch_size = bs, num_workers = workers)\n",
    "imgs_train_y_dl = DataLoader(imgs_train_y, batch_size = bs, num_workers = workers)\n",
    "\n",
    "imgs_valid_x_dl = DataLoader(imgs_valid_x, batch_size = bs, num_workers = workers)\n",
    "imgs_valid_y_dl = DataLoader(imgs_valid_y, batch_size = bs, num_workers = workers)"
   ]
  },
  {
   "cell_type": "code",
   "execution_count": 6,
   "metadata": {},
   "outputs": [],
   "source": [
    "device = torch.device(\"cuda:0\" if (torch.cuda.is_available() and ngpu > 0) else \"cpu\")"
   ]
  },
  {
   "cell_type": "code",
   "execution_count": 7,
   "metadata": {},
   "outputs": [],
   "source": [
    "class SuperResolution(nn.Module):\n",
    "    def __init__(self):\n",
    "        super().__init__()\n",
    "        \n",
    "        self.conv1 = nn.Conv2d(3, 12, kernel_size = 5, padding = 2)\n",
    "        self.conv2 = nn.Conv2d(12, 12, kernel_size = 5, padding = 2)\n",
    "        self.upsample = nn.PixelShuffle(upscale_factor = 2)\n",
    "\n",
    "    def forward(self, xb):\n",
    "        \n",
    "        xb = torch.tanh(self.conv1(xb))\n",
    "        xb = torch.sigmoid(self.conv2(xb))\n",
    "        \n",
    "        return self.upsample(xb)"
   ]
  },
  {
   "cell_type": "code",
   "execution_count": 8,
   "metadata": {},
   "outputs": [],
   "source": [
    "def preprocess(x, y):\n",
    "    return x.to(device), y.to(device)"
   ]
  },
  {
   "cell_type": "code",
   "execution_count": 9,
   "metadata": {},
   "outputs": [],
   "source": [
    "def get_model():\n",
    "    model = SuperResolution().to(device)\n",
    "    return model, optim.SGD(model.parameters(), lr=0.01, momentum=0.9)\n",
    "\n",
    "loss_func = nn.MSELoss(reduction='mean')"
   ]
  },
  {
   "cell_type": "code",
   "execution_count": 10,
   "metadata": {},
   "outputs": [],
   "source": [
    "class WrappedDataLoader:\n",
    "    def __init__(self, dl_x, dl_y, func):\n",
    "        assert len(dl_x) == len(dl_y)\n",
    "        self.dl_x = dl_x\n",
    "        self.dl_y = dl_y\n",
    "        self.func = func\n",
    "    \n",
    "    def __len__(self):\n",
    "        return len(self.dl_x)\n",
    "\n",
    "    def __iter__(self):\n",
    "        batches_x = iter(self.dl_x)\n",
    "        batches_y = iter(self.dl_y)\n",
    "        \n",
    "        for b_x, _ in batches_x:\n",
    "            b_y, _ = batches_y.next()\n",
    "            yield (self.func(b_x, b_y))\n",
    "        "
   ]
  },
  {
   "cell_type": "code",
   "execution_count": 11,
   "metadata": {},
   "outputs": [],
   "source": [
    "def loss_batch(model, loss_func, xb, yb, opt=None):\n",
    "    loss = loss_func(model(xb), yb)\n",
    "    if opt is not None:\n",
    "        loss.backward()\n",
    "        opt.step()\n",
    "        opt.zero_grad()\n",
    "    \n",
    "    return loss.item(), len(xb)"
   ]
  },
  {
   "cell_type": "code",
   "execution_count": 12,
   "metadata": {},
   "outputs": [],
   "source": [
    "def fit(epochs, model, loss_func, opt, train_dl, valid_dl, val_losses):\n",
    "    for epoch in range(epochs):\n",
    "        model.train()\n",
    "        for xb, yb in train_dl:\n",
    "            loss_batch(model, loss_func, xb, yb, opt)\n",
    "\n",
    "        model.eval()\n",
    "        with torch.no_grad():\n",
    "            losses, nums = zip(\n",
    "                *[loss_batch(model, loss_func, xb, yb) for xb, yb in valid_dl]\n",
    "            )\n",
    "        val_loss = np.sum(np.multiply(losses, nums)) / np.sum(nums)\n",
    "        val_losses.append(val_loss)\n",
    "        \n",
    "        print(epoch, val_loss)"
   ]
  },
  {
   "cell_type": "code",
   "execution_count": 13,
   "metadata": {
    "scrolled": false
   },
   "outputs": [
    {
     "name": "stdout",
     "output_type": "stream",
     "text": [
      "0 0.5866379737854004\n",
      "1 0.41648297309875487\n",
      "2 0.3504869878292084\n",
      "3 0.33108386397361755\n",
      "4 0.31881060004234313\n",
      "5 0.30697677135467527\n",
      "6 0.29411437511444094\n",
      "7 0.27993696331977846\n",
      "8 0.2657950818538666\n",
      "9 0.2552846521139145\n",
      "10 0.24872917234897612\n",
      "11 0.24375364184379578\n",
      "12 0.2402591198682785\n",
      "13 0.23767023980617524\n",
      "14 0.23569607734680176\n",
      "15 0.2341536581516266\n",
      "16 0.2329021543264389\n",
      "17 0.23185755014419557\n",
      "18 0.2309671014547348\n",
      "19 0.23019733428955078\n",
      "20 0.22952451109886168\n",
      "21 0.22893142700195312\n",
      "22 0.22840553522109985\n",
      "23 0.22793739140033722\n",
      "24 0.22751958072185516\n",
      "25 0.22714594304561614\n",
      "26 0.22681120038032532\n",
      "27 0.22651086747646332\n",
      "28 0.22624093890190125\n",
      "29 0.22599791288375853\n",
      "30 0.22577858865261077\n",
      "31 0.22558013200759888\n",
      "32 0.22540006637573243\n",
      "33 0.2252361834049225\n",
      "34 0.2250865340232849\n",
      "35 0.2249494045972824\n",
      "36 0.2248232454061508\n",
      "37 0.22470683753490447\n",
      "38 0.22459895312786102\n",
      "39 0.22449865639209748\n",
      "40 0.2244050532579422\n",
      "41 0.22431741654872894\n",
      "42 0.22423509061336516\n",
      "43 0.22415745556354522\n",
      "44 0.2240840256214142\n",
      "45 0.22401444911956786\n",
      "46 0.2239481985569\n",
      "47 0.22388502061367035\n",
      "48 0.2238245964050293\n",
      "49 0.22376662492752075\n",
      "50 0.223710897564888\n",
      "51 0.22365719676017762\n",
      "52 0.22360533177852632\n",
      "53 0.22355515658855438\n",
      "54 0.22350647151470185\n",
      "55 0.2234591782093048\n",
      "56 0.22341312766075133\n",
      "57 0.22336823344230652\n",
      "58 0.2233243852853775\n",
      "59 0.22328145205974578\n"
     ]
    }
   ],
   "source": [
    "train_dl = WrappedDataLoader(imgs_train_x_dl, imgs_train_y_dl, preprocess)\n",
    "valid_dl = WrappedDataLoader(imgs_valid_x_dl, imgs_valid_y_dl, preprocess)\n",
    "\n",
    "val_losses = []\n",
    "\n",
    "model, opt = get_model()\n",
    "fit(epochs, model, loss_func, opt, train_dl, valid_dl, val_losses)"
   ]
  },
  {
   "cell_type": "code",
   "execution_count": 14,
   "metadata": {},
   "outputs": [
    {
     "data": {
      "image/png": "[encoded data removed]",
      "text/plain": [
       "<Figure size 432x288 with 1 Axes>"
      ]
     },
     "metadata": {
      "image/png": {
       "height": 250,
       "width": 380
      },
      "needs_background": "light"
     },
     "output_type": "display_data"
    }
   ],
   "source": [
    "plt.plot(val_losses)\n",
    "plt.show()"
   ]
  },
  {
   "cell_type": "code",
   "execution_count": 15,
   "metadata": {},
   "outputs": [
    {
     "name": "stderr",
     "output_type": "stream",
     "text": [
      "C:\\Anaconda3\\.conda\\envs'\\torch_env\\lib\\site-packages\\torch\\serialization.py:256: UserWarning: Couldn't retrieve source code for container of type SuperResolution. It won't be checked for correctness upon loading.\n",
      "  \"type \" + obj.__name__ + \". It won't be checked \"\n"
     ]
    }
   ],
   "source": [
    "torch.save(model, \"SR_model_2.3.ml\")"
   ]
  },
  {
   "cell_type": "code",
   "execution_count": null,
   "metadata": {},
   "outputs": [
    {
     "data": {
      "application/javascript": [
       "Jupyter.notebook.session.delete();\n"
      ],
      "text/plain": [
       "<IPython.core.display.Javascript object>"
      ]
     },
     "metadata": {},
     "output_type": "display_data"
    }
   ],
   "source": [
    "%%javascript\n",
    "Jupyter.notebook.session.delete();"
   ]
  },
  {
   "cell_type": "code",
   "execution_count": null,
   "metadata": {},
   "outputs": [],
   "source": []
  }
 ],
 "metadata": {
  "kernelspec": {
   "display_name": "torch_env",
   "language": "python",
   "name": "torch_env"
  },
  "language_info": {
   "codemirror_mode": {
    "name": "ipython",
    "version": 3
   },
   "file_extension": ".py",
   "mimetype": "text/x-python",
   "name": "python",
   "nbconvert_exporter": "python",
   "pygments_lexer": "ipython3",
   "version": "3.7.9"
  }
 },
 "nbformat": 4,
 "nbformat_minor": 2
}
