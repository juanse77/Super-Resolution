{
 "cells": [
  {
   "cell_type": "markdown",
   "metadata": {},
   "source": [
    "# Super-resolución 2x:\n",
    "## Modelado y Entranamiento:\n",
    "\n",
    "Ejercicio de curso para la asignatura de Computación Inteligente perteneciente al Máster Universitario en Sistemas Inteligentes y Aplicaciones Numéricas para la Ingeniería (MUSIANI) en el curso 2020/21, realizado por Juan Sebastián Ramírez Artiles.\n",
    "\n",
    "El ejercicio consiste en implementar un método de superresolución en imágenes basado en el método VDSR descrito en el artículo [Superresolución de una sola imagen mediante el aprendizaje profundo](https://es.mathworks.com/help/images/single-image-super-resolution-using-deep-learning.html). Concretamente, en este notebook se ha implementado un escalado de dos aumententos. El dataset usado fue el [ffhq-dataset](https://drive.google.com/drive/folders/1u2xu7bSrWxrbUxk-dT-UvEJq8IjdmNTP) de libre descarga. Las imgágenes usadas son las del conjunto 64000 con un tamaño para las imágenes de alta resolución de a 1024x1024, y de 128x128 para las de baja resolución. Para la realización de este ejercicio se ha reducido las imágenes de alta resolución a 256x256 de modo que serán las que se usarán como etiquetas de la red.\n"
   ]
  },
  {
   "cell_type": "code",
   "execution_count": 1,
   "metadata": {},
   "outputs": [],
   "source": [
    "%matplotlib inline\n",
    "%config InlineBackend.figure_format = 'retina'\n",
    "import matplotlib.pyplot as plt\n",
    "import torch\n",
    "from torchvision import datasets, transforms\n",
    "from torch.utils.data import DataLoader, Dataset\n",
    "import torch.nn.functional as F\n",
    "import numpy as np\n",
    "import torch.nn as nn\n",
    "import torch.optim as optim\n",
    "from os import listdir\n",
    "from os.path import join\n",
    "from PIL import Image"
   ]
  },
  {
   "cell_type": "markdown",
   "metadata": {},
   "source": [
    "Las imágenes se cargan de cuatro directorios. Las imágenes reales se situan en train_y y valid_y, mientras que las imágenes a ampliar se encuentran en los directorios train_x y valid_x.\n",
    "\n",
    "El programa se ejecutó en una máquina con un procesador Intel Core i7-7700HQ a 2.80GHz con una tarjeta de vídeo NVIDIA GeForce GTX 1050 de 4GB de memoria dedicada y con 32 GB de memoria RAM.\n",
    "\n",
    "![](Super_Resolution_CI_3.1.JPG)"
   ]
  },
  {
   "cell_type": "code",
   "execution_count": 2,
   "metadata": {},
   "outputs": [],
   "source": [
    "ngpu = 1\n",
    "beta1 = 0.5\n",
    "lr = 0.005\n",
    "bs = 150\n",
    "epochs = 50\n",
    "\n",
    "path_train_x = \"faces/train_x/x8\"\n",
    "path_train_y = \"faces/train_y/x4\"\n",
    "\n",
    "path_valid_x = \"faces/valid_x/x8\"\n",
    "path_valid_y = \"faces/valid_y/x4\""
   ]
  },
  {
   "cell_type": "markdown",
   "metadata": {},
   "source": [
    "El entrenamiento del modelo se realizó únicamente en la capa de luminancia mientras que las capas de crominancia se escalaron por el método tradicional. El resultado final no se verá perjudicado en exceso, ya que las crominancias influyen mínimamente en la calidad del contorno. Para lograr este objetivo se hizo necesario convertir las imágenes de RGB a YCbCr."
   ]
  },
  {
   "cell_type": "markdown",
   "metadata": {},
   "source": [
    "Para la generación del dataset y las transformaciones del mismo se usó como modelo el ejemplo publicado en la web de pytorch [Writting custom datasets, dataloaders and transforms](https://pytorch.org/tutorials/beginner/data_loading_tutorial.html)."
   ]
  },
  {
   "cell_type": "code",
   "execution_count": 3,
   "metadata": {},
   "outputs": [],
   "source": [
    "class FacesDataset(Dataset):\n",
    "    \n",
    "    def __init__(self, root_dir_x, root_dir_y, transform=None):\n",
    "        self.x_files = listdir(root_dir_x)\n",
    "        self.y_files = listdir(root_dir_y)\n",
    "        \n",
    "        assert  len(self.x_files) == len(self.x_files)\n",
    "        \n",
    "        self.dir_x = root_dir_x\n",
    "        self.dir_y = root_dir_y\n",
    "        \n",
    "        self.transform = transform\n",
    "\n",
    "    def __len__(self):\n",
    "        return len(self.x_files)\n",
    "\n",
    "    def __getitem__(self, idx):\n",
    "        if torch.is_tensor(idx):\n",
    "            idx = idx.tolist()\n",
    "                \n",
    "        img_x = Image.open(join(self.dir_x, self.x_files[idx]))\n",
    "        img_y = Image.open(join(self.dir_y, self.y_files[idx]))\n",
    "                \n",
    "        img_set = {'img_x': img_x, 'img_y': img_y}\n",
    "        \n",
    "        if self.transform:\n",
    "            img_set = self.transform(img_set)\n",
    "\n",
    "        return img_set"
   ]
  },
  {
   "cell_type": "code",
   "execution_count": 4,
   "metadata": {},
   "outputs": [],
   "source": [
    "class PilToYCbCr(object):\n",
    "    def __call__(self, img_set):\n",
    "        imgs = []\n",
    "        \n",
    "        for _, img in img_set.items():            \n",
    "            imgs.append(img.convert('YCbCr'))\n",
    "            \n",
    "        return {'img_x': imgs[0], 'img_y': imgs[1]}"
   ]
  },
  {
   "cell_type": "code",
   "execution_count": 5,
   "metadata": {},
   "outputs": [],
   "source": [
    "class ToTensor(object):\n",
    "    def __call__(self, img_set):\n",
    "        \n",
    "        imgs = []\n",
    "                \n",
    "        for _, img in img_set.items():\n",
    "            tr = transforms.ToTensor()\n",
    "            imgs.append(tr(img))\n",
    "        \n",
    "        return { 'img_x': imgs[0], 'img_y': imgs[1] }"
   ]
  },
  {
   "cell_type": "code",
   "execution_count": 6,
   "metadata": {},
   "outputs": [],
   "source": [
    "class Normalize(object):\n",
    "    def __call__(self, img_set):\n",
    "        imgs = []\n",
    "        mean = torch.Tensor([0.5])\n",
    "        std = 0.5\n",
    "        \n",
    "        for _, img in img_set.items():\n",
    "            \n",
    "            img = (img - mean.expand_as(img)) / std\n",
    "            imgs.append(img)\n",
    "        \n",
    "        return {'img_x': imgs[0], 'img_y': imgs[1]}"
   ]
  },
  {
   "cell_type": "code",
   "execution_count": 7,
   "metadata": {},
   "outputs": [],
   "source": [
    "transform = transforms.Compose([\n",
    "    PilToYCbCr(),\n",
    "    ToTensor(),\n",
    "    Normalize()\n",
    "])\n",
    "\n",
    "imgs_train = FacesDataset(path_train_x, path_train_y, transform = transform)\n",
    "imgs_valid = FacesDataset(path_valid_x, path_valid_y, transform = transform)"
   ]
  },
  {
   "cell_type": "code",
   "execution_count": 8,
   "metadata": {},
   "outputs": [],
   "source": [
    "imgs_train_dl = DataLoader(imgs_train, batch_size = bs, shuffle = True)\n",
    "imgs_valid_dl = DataLoader(imgs_valid, batch_size = bs, shuffle = True)"
   ]
  },
  {
   "cell_type": "markdown",
   "metadata": {},
   "source": [
    "El dataset se dividió en 900 imágenes para entrenamiento y 100 imágenes para validación."
   ]
  },
  {
   "cell_type": "code",
   "execution_count": 9,
   "metadata": {},
   "outputs": [
    {
     "name": "stdout",
     "output_type": "stream",
     "text": [
      "900\n",
      "100\n"
     ]
    }
   ],
   "source": [
    "print(len(imgs_train))\n",
    "print(len(imgs_valid))"
   ]
  },
  {
   "cell_type": "code",
   "execution_count": 10,
   "metadata": {},
   "outputs": [],
   "source": [
    "device = torch.device(\"cuda:0\" if (torch.cuda.is_available() and ngpu > 0) else \"cpu\")"
   ]
  },
  {
   "cell_type": "markdown",
   "metadata": {},
   "source": [
    "Se probaron una variedad de modelos diferentes. Se usaron kernels de 3x3, de 5x5 y de 7x7, siendo estos últimos los que mejor resultados dieron. También se probaron diferentes configuraciones de red, añadiendo capas convolutivas y modificando las funciones de activación. Esta configuración resultó la más adecuada.\n",
    "\n",
    "En el proceso de entrenamiento se usaron gran variedad de combinaciones de tamaños de batches y de cantidad de épocas. Se empezó con tamaños de batch de 8, se fue subiendo hasta 150, dejando todavía 900 MB de espacio en GPU. En cuanto al número de épocas, se empezó con 10 iteraciones y se fue subiendo hasta la cantidad de 80. No obstante, al variar el learning rate se aceleró la convergencia, con lo que finalmente se bajó a 50 épocas."
   ]
  },
  {
   "cell_type": "code",
   "execution_count": 11,
   "metadata": {},
   "outputs": [],
   "source": [
    "class SuperResolution(nn.Module):\n",
    "    def __init__(self):\n",
    "        super().__init__()\n",
    "        \n",
    "        self.conv1 = nn.Conv2d(1, 8, kernel_size = 7, padding = 3)\n",
    "        self.conv2 = nn.Conv2d(8, 16, kernel_size = 7, padding = 3)\n",
    "        self.conv3 = nn.Conv2d(16, 8, kernel_size = 7, padding = 3)\n",
    "        self.conv4 = nn.Conv2d(8, 1, kernel_size = 7, padding = 3)\n",
    "        \n",
    "        self.upsample = nn.Upsample(scale_factor = 2)\n",
    "\n",
    "    def forward(self, xb):\n",
    "        \n",
    "        xb = self.upsample(xb)\n",
    "        xb = torch.tanh(self.conv1(xb))\n",
    "        xb = torch.tanh(self.conv2(xb))\n",
    "        xb = torch.tanh(self.conv3(xb))\n",
    "        \n",
    "        return torch.tanh(self.conv4(xb))"
   ]
  },
  {
   "cell_type": "code",
   "execution_count": 12,
   "metadata": {},
   "outputs": [],
   "source": [
    "def preprocess(x, y):\n",
    "    return x.to(device), y.to(device)"
   ]
  },
  {
   "cell_type": "code",
   "execution_count": 13,
   "metadata": {},
   "outputs": [],
   "source": [
    "def get_model():\n",
    "    model = SuperResolution().to(device)\n",
    "    return model, optim.SGD(model.parameters(), lr=lr, momentum=0.9)\n",
    "\n",
    "loss_func = nn.MSELoss(reduction='mean')"
   ]
  },
  {
   "cell_type": "code",
   "execution_count": 14,
   "metadata": {},
   "outputs": [],
   "source": [
    "class WrappedDataLoader:\n",
    "    def __init__(self, dl, func):\n",
    "        self.dl = dl\n",
    "        self.func = func\n",
    "    \n",
    "    def __len__(self):\n",
    "        return len(self.dl)\n",
    "\n",
    "    def __iter__(self):\n",
    "        for sample_batch in imgs_train_dl:\n",
    "            yield (self.func(sample_batch['img_x'][:,0].unsqueeze(-3), sample_batch['img_y'][:,0].unsqueeze(-3)))        "
   ]
  },
  {
   "cell_type": "code",
   "execution_count": 15,
   "metadata": {},
   "outputs": [],
   "source": [
    "def loss_batch(model, loss_func, xb, yb, opt=None):\n",
    "    loss = loss_func(model(xb), yb)\n",
    "    if opt is not None:\n",
    "        loss.backward()\n",
    "        opt.step()\n",
    "        opt.zero_grad()\n",
    "    \n",
    "    return loss.item(), len(xb)"
   ]
  },
  {
   "cell_type": "code",
   "execution_count": 16,
   "metadata": {},
   "outputs": [],
   "source": [
    "def fit(epochs, model, loss_func, opt, train_dl, valid_dl, val_losses):\n",
    "    for epoch in range(epochs):\n",
    "        model.train()\n",
    "        for xb, yb in train_dl:\n",
    "            loss_batch(model, loss_func, xb, yb, opt)\n",
    "\n",
    "        model.eval()\n",
    "        with torch.no_grad():\n",
    "            losses, nums = zip(\n",
    "                *[loss_batch(model, loss_func, xb, yb) for xb, yb in valid_dl]\n",
    "            )\n",
    "        val_loss = np.sum(np.multiply(losses, nums)) / np.sum(nums)\n",
    "        val_losses.append(val_loss)\n",
    "        \n",
    "        print(epoch, val_loss)"
   ]
  },
  {
   "cell_type": "code",
   "execution_count": 17,
   "metadata": {
    "scrolled": false
   },
   "outputs": [
    {
     "name": "stdout",
     "output_type": "stream",
     "text": [
      "0 0.06483114262421925\n",
      "1 0.035555280124147735\n",
      "2 0.0427752248942852\n",
      "3 0.03147281768421332\n",
      "4 0.02484137626985709\n",
      "5 0.021126075958212216\n",
      "6 0.018905918424328167\n",
      "7 0.017399668072660763\n",
      "8 0.016367529518902302\n",
      "9 0.015588741439084211\n",
      "10 0.015041750855743885\n",
      "11 0.014637039974331856\n",
      "12 0.014345746797819933\n",
      "13 0.014098256515959898\n",
      "14 0.01389435213059187\n",
      "15 0.01372075593098998\n",
      "16 0.013559625639269749\n",
      "17 0.013407290602723757\n",
      "18 0.01325499452650547\n",
      "19 0.013114516157656908\n",
      "20 0.012972752408434948\n",
      "21 0.012838196940720081\n",
      "22 0.012711273195842901\n",
      "23 0.012588480021804571\n",
      "24 0.012473906545589367\n",
      "25 0.012338769932587942\n",
      "26 0.012223247438669205\n",
      "27 0.012106362575044235\n",
      "28 0.012000804767012596\n",
      "29 0.011903391685336828\n",
      "30 0.011786489437023798\n",
      "31 0.011673237973203262\n",
      "32 0.0115752339673539\n",
      "33 0.01147368069117268\n",
      "34 0.011375766557951769\n",
      "35 0.011281569954007864\n",
      "36 0.011192037568738064\n",
      "37 0.011095528801282247\n",
      "38 0.01100900707145532\n",
      "39 0.010920462508996328\n",
      "40 0.01083372626453638\n",
      "41 0.0107595583734413\n",
      "42 0.010702791158109903\n",
      "43 0.010591743048280478\n",
      "44 0.010516997737189135\n",
      "45 0.010438934899866581\n",
      "46 0.010367967809240023\n",
      "47 0.010295956550786892\n",
      "48 0.010223751422017813\n",
      "49 0.010162690499176582\n"
     ]
    }
   ],
   "source": [
    "train_dl = WrappedDataLoader(imgs_train, preprocess)\n",
    "valid_dl = WrappedDataLoader(imgs_valid, preprocess)\n",
    "\n",
    "val_losses = []\n",
    "\n",
    "model, opt = get_model()\n",
    "fit(epochs, model, loss_func, opt, train_dl, valid_dl, val_losses)"
   ]
  },
  {
   "cell_type": "markdown",
   "metadata": {},
   "source": [
    "Se puede observar en el gráfico que la red aprende bien."
   ]
  },
  {
   "cell_type": "code",
   "execution_count": 18,
   "metadata": {},
   "outputs": [
    {
     "data": {
      "image/png": "[encoded data removed]",
      "text/plain": [
       "<Figure size 432x288 with 1 Axes>"
      ]
     },
     "metadata": {
      "image/png": {
       "height": 248,
       "width": 378
      },
      "needs_background": "light"
     },
     "output_type": "display_data"
    }
   ],
   "source": [
    "plt.plot(val_losses)\n",
    "plt.show()"
   ]
  },
  {
   "cell_type": "markdown",
   "metadata": {},
   "source": [
    "Para finalizar, salvo el modelo para poder usarlo en el notebook [SR_Restore_Faces_Model.ipynb](SR_Restore_Faces_Model.ipynb) que se encargará de escalar las 100 imágenes de validación. - Modelo entrenado [SR_model_Faces_5.0.ml](SR_model_Faces_5.0.ml) -"
   ]
  },
  {
   "cell_type": "code",
   "execution_count": 19,
   "metadata": {},
   "outputs": [],
   "source": [
    "torch.save(model, \"SR_model_Faces_5.0.ml\")"
   ]
  },
  {
   "cell_type": "code",
   "execution_count": null,
   "metadata": {},
   "outputs": [
    {
     "data": {
      "application/javascript": [
       "Jupyter.notebook.session.delete();\n"
      ],
      "text/plain": [
       "<IPython.core.display.Javascript object>"
      ]
     },
     "metadata": {},
     "output_type": "display_data"
    }
   ],
   "source": [
    "%%javascript\n",
    "Jupyter.notebook.session.delete();"
   ]
  }
 ],
 "metadata": {
  "kernelspec": {
   "display_name": "torch_env",
   "language": "python",
   "name": "torch_env"
  },
  "language_info": {
   "codemirror_mode": {
    "name": "ipython",
    "version": 3
   },
   "file_extension": ".py",
   "mimetype": "text/x-python",
   "name": "python",
   "nbconvert_exporter": "python",
   "pygments_lexer": "ipython3",
   "version": "3.7.9"
  }
 },
 "nbformat": 4,
 "nbformat_minor": 2
}
